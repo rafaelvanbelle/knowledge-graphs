{
 "cells": [
  {
   "cell_type": "code",
   "execution_count": 1,
   "metadata": {},
   "outputs": [],
   "source": [
    "# See Chapter 6 Enriching Knowledge Graphs with Data Science"
   ]
  },
  {
   "cell_type": "code",
   "execution_count": 4,
   "metadata": {},
   "outputs": [],
   "source": [
    "from graphdatascience import GraphDataScience\n",
    "\n",
    "host = \"bolt://localhost:7687\"\n",
    "user = \"neo4j\"\n",
    "password = \"test1234\"\n",
    "\n",
    "gds = GraphDataScience(host, auth=(user, password), database=\"neo4j\")"
   ]
  },
  {
   "cell_type": "code",
   "execution_count": 7,
   "metadata": {},
   "outputs": [
    {
     "name": "stdout",
     "output_type": "stream",
     "text": [
      "--2024-02-19 13:44:01--  https://raw.githubusercontent.com/jbarrasa/gc-2022/main/interop/data/nr-station-links.csv\n",
      "Resolving raw.githubusercontent.com (raw.githubusercontent.com)... 185.199.110.133, 185.199.111.133, 185.199.108.133, ...\n",
      "Connecting to raw.githubusercontent.com (raw.githubusercontent.com)|185.199.110.133|:443... connected.\n",
      "HTTP request sent, awaiting response... 200 OK\n",
      "Length: 81618 (80K) [text/plain]\n",
      "Saving to: ‘nr-station-links.csv.1’\n",
      "\n",
      "nr-station-links.cs 100%[===================>]  79,71K  --.-KB/s    in 0,03s   \n",
      "\n",
      "2024-02-19 13:44:01 (3,07 MB/s) - ‘nr-station-links.csv.1’ saved [81618/81618]\n",
      "\n",
      "--2024-02-19 13:44:01--  https://raw.githubusercontent.com/jbarrasa/gc-2022/main/interop/data/nr-stations-all.csv\n",
      "Resolving raw.githubusercontent.com (raw.githubusercontent.com)... 185.199.110.133, 185.199.111.133, 185.199.108.133, ...\n",
      "Connecting to raw.githubusercontent.com (raw.githubusercontent.com)|185.199.110.133|:443... connected.\n",
      "HTTP request sent, awaiting response... 200 OK\n",
      "Length: 485501 (474K) [text/plain]\n",
      "Saving to: ‘nr-stations-all.csv’\n",
      "\n",
      "nr-stations-all.csv 100%[===================>] 474,12K  --.-KB/s    in 0,07s   \n",
      "\n",
      "2024-02-19 13:44:01 (6,73 MB/s) - ‘nr-stations-all.csv’ saved [485501/485501]\n",
      "\n"
     ]
    }
   ],
   "source": [
    "! wget https://raw.githubusercontent.com/jbarrasa/gc-2022/main/interop/data/nr-station-links.csv\n",
    "! wget https://raw.githubusercontent.com/jbarrasa/gc-2022/main/interop/data/nr-stations-all.csv"
   ]
  },
  {
   "cell_type": "code",
   "execution_count": 14,
   "metadata": {},
   "outputs": [
    {
     "data": {
      "text/html": [
       "<div>\n",
       "<style scoped>\n",
       "    .dataframe tbody tr th:only-of-type {\n",
       "        vertical-align: middle;\n",
       "    }\n",
       "\n",
       "    .dataframe tbody tr th {\n",
       "        vertical-align: top;\n",
       "    }\n",
       "\n",
       "    .dataframe thead th {\n",
       "        text-align: right;\n",
       "    }\n",
       "</style>\n",
       "<table border=\"1\" class=\"dataframe\">\n",
       "  <thead>\n",
       "    <tr style=\"text-align: right;\">\n",
       "      <th></th>\n",
       "    </tr>\n",
       "  </thead>\n",
       "  <tbody>\n",
       "  </tbody>\n",
       "</table>\n",
       "</div>"
      ],
      "text/plain": [
       "Empty DataFrame\n",
       "Columns: []\n",
       "Index: []"
      ]
     },
     "execution_count": 14,
     "metadata": {},
     "output_type": "execute_result"
    }
   ],
   "source": [
    "gds.run_cypher(\n",
    "    \"\"\"\n",
    "LOAD CSV WITH HEADERS FROM \"file:///nr-stations-all.csv\" AS station\n",
    "CREATE (:Station {name: station.name, crs:station.crs})\n",
    "    \"\"\"\n",
    ")"
   ]
  },
  {
   "cell_type": "code",
   "execution_count": 18,
   "metadata": {},
   "outputs": [],
   "source": [
    "gds.run_cypher(\n",
    "    \"\"\"\n",
    "LOAD CSV WITH HEADERS FROM \"file:///nr-station-links.csv\" AS track\n",
    "MATCH (from:Station {crs: track.from})\n",
    "MATCH (to:Station {crs: track.to})\n",
    "MERGE (from)-[:TRACK {distance: round(toFloat(track.distance), 2)}]->(to)\n",
    "    \"\"\"\n",
    ")\n",
    "gds.close()"
   ]
  },
  {
   "cell_type": "code",
   "execution_count": 19,
   "metadata": {},
   "outputs": [],
   "source": [
    "# Example 6-3. Using the Python API for Graph Data Science to create a graph projection from the railway knowledge graph\n",
    "from graphdatascience import GraphDataScience\n",
    "\n",
    "gds = GraphDataScience(host, auth=(user, password), database=\"neo4j\")\n",
    "\n",
    "gds.graph.project.cypher(\n",
    "    graph_name='trains',\n",
    "    node_spec='MATCH (s:Station) RETURN id(s) as id', \n",
    "    relationship_spec=\n",
    "    \"\"\"\n",
    "MATCH (s1:Station)-[t:TRACK]->(s2:Station)\n",
    "RETURN id(s1) AS source, id(s2) as target, t.distance as distance\n",
    "    \"\"\"\n",
    "    )\n",
    "gds.close()"
   ]
  },
  {
   "cell_type": "code",
   "execution_count": null,
   "metadata": {},
   "outputs": [],
   "source": []
  }
 ],
 "metadata": {
  "kernelspec": {
   "display_name": ".venv",
   "language": "python",
   "name": "python3"
  },
  "language_info": {
   "codemirror_mode": {
    "name": "ipython",
    "version": 3
   },
   "file_extension": ".py",
   "mimetype": "text/x-python",
   "name": "python",
   "nbconvert_exporter": "python",
   "pygments_lexer": "ipython3",
   "version": "3.10.9"
  }
 },
 "nbformat": 4,
 "nbformat_minor": 2
}
